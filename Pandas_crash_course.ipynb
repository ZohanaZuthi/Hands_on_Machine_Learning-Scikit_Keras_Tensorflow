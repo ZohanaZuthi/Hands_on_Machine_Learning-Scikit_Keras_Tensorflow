{
 "cells": [
  {
   "cell_type": "markdown",
   "id": "e4db9879",
   "metadata": {},
   "source": [
    "### Series\n",
    "A series is a one dimensional array where the rows and columns can be labeled."
   ]
  },
  {
   "cell_type": "code",
   "execution_count": 2,
   "id": "8fd4a39f",
   "metadata": {},
   "outputs": [
    {
     "name": "stdout",
     "output_type": "stream",
     "text": [
      "a    1\n",
      "b    2\n",
      "c    3\n",
      "dtype: int32\n"
     ]
    }
   ],
   "source": [
    "import numpy\n",
    "import pandas\n",
    "myarray = numpy.array([1, 2, 3])\n",
    "rownames = ['a', 'b', 'c']\n",
    "myseries = pandas.Series(myarray, index=rownames)\n",
    "print(myseries)"
   ]
  },
  {
   "cell_type": "code",
   "execution_count": 3,
   "id": "bf98701c",
   "metadata": {},
   "outputs": [
    {
     "name": "stdout",
     "output_type": "stream",
     "text": [
      "1\n",
      "1\n"
     ]
    },
    {
     "name": "stderr",
     "output_type": "stream",
     "text": [
      "C:\\Users\\hp\\AppData\\Local\\Temp\\ipykernel_9700\\1741991443.py:1: FutureWarning: Series.__getitem__ treating keys as positions is deprecated. In a future version, integer keys will always be treated as labels (consistent with DataFrame behavior). To access a value by position, use `ser.iloc[pos]`\n",
      "  print(myseries[0])\n"
     ]
    }
   ],
   "source": [
    "print(myseries[0])\n",
    "print(myseries['a'])"
   ]
  },
  {
   "cell_type": "markdown",
   "id": "8c3d6b1c",
   "metadata": {},
   "source": [
    "### DataFrame\n",
    "A dataframe is  a multi-dimensional array where the rows and the columns can be labeled."
   ]
  },
  {
   "cell_type": "code",
   "execution_count": 4,
   "id": "fcb02d1f",
   "metadata": {},
   "outputs": [
    {
     "name": "stdout",
     "output_type": "stream",
     "text": [
      "   one  two  three\n",
      "a    1    2      3\n",
      "b    4    5      6\n"
     ]
    }
   ],
   "source": [
    "import numpy\n",
    "import pandas\n",
    "myarray=numpy.array([[1,2,3],[4,5,6]])\n",
    "rownames=['a', 'b']\n",
    "colnames=['one', 'two', 'three']\n",
    "mydataframe=pandas.DataFrame(myarray,index=rownames,columns=colnames)\n",
    "print(mydataframe)"
   ]
  },
  {
   "cell_type": "code",
   "execution_count": 7,
   "id": "bc90e917",
   "metadata": {},
   "outputs": [
    {
     "name": "stdout",
     "output_type": "stream",
     "text": [
      "method1:\n",
      "onecolumn:%s\n",
      " a    1\n",
      "b    4\n",
      "Name: one, dtype: int32\n",
      "method2:\n",
      "onecolumn:%s\n",
      " a    1\n",
      "b    4\n",
      "Name: one, dtype: int32\n"
     ]
    }
   ],
   "source": [
    "print(\"method1:\")\n",
    "print(\"onecolumn:%s\\n\",mydataframe['one'])\n",
    "print(\"method2:\")\n",
    "print(\"onecolumn:%s\\n\",mydataframe.one)"
   ]
  },
  {
   "cell_type": "code",
   "execution_count": null,
   "id": "ba943ad8",
   "metadata": {},
   "outputs": [],
   "source": []
  }
 ],
 "metadata": {
  "kernelspec": {
   "display_name": "Python 3",
   "language": "python",
   "name": "python3"
  },
  "language_info": {
   "codemirror_mode": {
    "name": "ipython",
    "version": 3
   },
   "file_extension": ".py",
   "mimetype": "text/x-python",
   "name": "python",
   "nbconvert_exporter": "python",
   "pygments_lexer": "ipython3",
   "version": "3.12.8"
  }
 },
 "nbformat": 4,
 "nbformat_minor": 5
}
