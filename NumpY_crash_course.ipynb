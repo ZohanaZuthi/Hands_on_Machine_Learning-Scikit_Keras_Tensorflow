{
 "cells": [
  {
   "cell_type": "markdown",
   "id": "5fadf942",
   "metadata": {},
   "source": [
    "### Create Array\n",
    "NumPy provides the foundation data structures and operations for SciPy"
   ]
  },
  {
   "cell_type": "code",
   "execution_count": 2,
   "id": "2d8a2d4f",
   "metadata": {},
   "outputs": [
    {
     "name": "stdout",
     "output_type": "stream",
     "text": [
      "[1 2 3]\n",
      "(3,)\n"
     ]
    }
   ],
   "source": [
    "import numpy\n",
    "mylist = [1, 2, 3]\n",
    "myarray = numpy.array(mylist)\n",
    "print(myarray)\n",
    "print(myarray.shape)"
   ]
  },
  {
   "cell_type": "markdown",
   "id": "7c91746a",
   "metadata": {},
   "source": [
    "### Access Data"
   ]
  },
  {
   "cell_type": "code",
   "execution_count": 5,
   "id": "e52d22b2",
   "metadata": {},
   "outputs": [
    {
     "name": "stdout",
     "output_type": "stream",
     "text": [
      "[[1 2 3]\n",
      " [3 4 5]]\n",
      "(2, 3)\n",
      "First row: %s [1 2 3]\n",
      "Last row: %s [3 4 5]\n",
      "Specific row and col: %s 3\n",
      "Whole col: %s [3 5]\n"
     ]
    }
   ],
   "source": [
    "# access values\n",
    "import numpy\n",
    "mylist = [[1, 2, 3], [3, 4, 5]]\n",
    "myarray = numpy.array(mylist)\n",
    "print(myarray)\n",
    "print(myarray.shape)\n",
    "print(\"First row: %s\",myarray[0])\n",
    "print(\"Last row: %s\",myarray[-1])\n",
    "print(\"Specific row and col: %s\",myarray[0, 2])\n",
    "print(\"Whole col: %s\",myarray[:, 2])"
   ]
  },
  {
   "cell_type": "code",
   "execution_count": 7,
   "id": "fb7ed021",
   "metadata": {},
   "outputs": [
    {
     "name": "stdout",
     "output_type": "stream",
     "text": [
      "Addition: %s [5 5 5]\n",
      "Multiplication: %s [6 6 6]\n"
     ]
    }
   ],
   "source": [
    "# arithmetic\n",
    "import numpy\n",
    "myarray1 = numpy.array([2, 2, 2])\n",
    "myarray2 = numpy.array([3, 3, 3])\n",
    "print(\"Addition: %s\",(myarray1 + myarray2))\n",
    "print(\"Multiplication: %s\",(myarray1 * myarray2))"
   ]
  },
  {
   "cell_type": "markdown",
   "id": "f1aa183d",
   "metadata": {},
   "source": []
  }
 ],
 "metadata": {
  "kernelspec": {
   "display_name": "Python 3",
   "language": "python",
   "name": "python3"
  },
  "language_info": {
   "codemirror_mode": {
    "name": "ipython",
    "version": 3
   },
   "file_extension": ".py",
   "mimetype": "text/x-python",
   "name": "python",
   "nbconvert_exporter": "python",
   "pygments_lexer": "ipython3",
   "version": "3.12.8"
  }
 },
 "nbformat": 4,
 "nbformat_minor": 5
}
